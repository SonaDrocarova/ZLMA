{
  "nbformat": 4,
  "nbformat_minor": 0,
  "metadata": {
    "colab": {
      "name": "Kópia zápisníka 01ZLMA_zapoctova_uloha_2022.ipynb",
      "private_outputs": true,
      "provenance": [],
      "collapsed_sections": [
        "UPN8huFa9TXs",
        "qt-Sj0KJbzRx",
        "OLW3sGXWvqYw",
        "EgmJdEeF3nVh"
      ],
      "include_colab_link": true
    },
    "kernelspec": {
      "name": "ir",
      "display_name": "R"
    },
    "language_info": {
      "name": "R"
    }
  },
  "cells": [
    {
      "cell_type": "markdown",
      "metadata": {
        "id": "view-in-github",
        "colab_type": "text"
      },
      "source": [
        "<a href=\"https://colab.research.google.com/github/SonaDrocarova/ZLMA/blob/main/K%C3%B3pia_z%C3%A1pisn%C3%ADka_01ZLMA_zapoctova_uloha_2022.ipynb\" target=\"_parent\"><img src=\"https://colab.research.google.com/assets/colab-badge.svg\" alt=\"Open In Colab\"/></a>"
      ]
    },
    {
      "cell_type": "markdown",
      "metadata": {
        "id": "iNr4YK9LQTPT"
      },
      "source": [
        "# Zadání zápočtové úlohy z předmětu 01ZLMA/01ZLIM v 2021/2022"
      ]
    },
    {
      "cell_type": "markdown",
      "metadata": {
        "id": "tejiSy2K8D5-"
      },
      "source": [
        "Zápočtovou úlohu vypracujte na datech pacientů, u kterých byla indikována srdeční choroba. \n",
        "\n",
        "Originalni data jsou k nalezení: https://archive.ics.uci.edu/ml/datasets/Heart+Disease\n",
        "\n",
        "Různé analýzy a grafická vizualizace tohoto datasetu lze nalézt také na: https://www.kaggle.com/ronitf/heart-disease-uci (pozor jiné  popisy, nahrazeni NaN, ...)\n",
        "\n",
        "Pro zápočtovou úlohu byla však data lehce modifikována a rozdělená z odkazu níže."
      ]
    },
    {
      "cell_type": "markdown",
      "metadata": {
        "id": "UPN8huFa9TXs"
      },
      "source": [
        "## 00 - Popis dat\n",
        "\n",
        "\n",
        "    age: \n",
        "    sex:\n",
        "        0: Female\n",
        "        1: Male\n",
        "    chest_pain_type: Chest Pain Type\n",
        "        0: asymptomatic\n",
        "        1: atypical angina\n",
        "        2: non-anginal pain\n",
        "        3: typical angina\n",
        "    blood_pressure: Resting Blood Pressure: Person's resting blood pressure\n",
        "    cholesterol: Serum Cholesterol in mg/dl\n",
        "    blood_sugar: Fasting Blood Sugar\n",
        "        0:Less Than 120mg/ml\n",
        "        1: Greater Than 120mg/ml\n",
        "    rest_ecg: Resting Electrocardiographic Measurement\n",
        "        0: showing probable or definite left ventricular hypertrophy by Estes' criteria\n",
        "        1: normal\n",
        "        2: having ST-T wave abnormality (T wave inversions and/or ST elevation or depression of > 0.05 mV)\n",
        "    heart_rate: Max Heart Rate Achieved: Maximum Heart Rate Achieved\n",
        "    ex_angina: Exercise Induced Angina\n",
        "        1: Yes\n",
        "        0: No\n",
        "    st_depression: ST depression induced by exercise relative to rest\n",
        "    st_slope: Slope of the peak exercise ST segment\n",
        "        0: downsloping\n",
        "        1: flat\n",
        "        2: upsloping\n",
        "    thal:  blood disorder called 'Thalassemia':\n",
        "        1: fixed defect\n",
        "        2: normal\n",
        "        3: reversable Defect\n",
        "    num_vessels: Number of Major Vessels: Number of major vessels colored by fluoroscopy\n"
      ]
    },
    {
      "cell_type": "markdown",
      "metadata": {
        "id": "qt-Sj0KJbzRx"
      },
      "source": [
        "### Načtení a úprava dat\n",
        "\n"
      ]
    },
    {
      "cell_type": "code",
      "metadata": {
        "id": "iejVKcFcTwIE"
      },
      "source": [
        "library(tidyverse)\n",
        "library(knitr)\n"
      ],
      "execution_count": null,
      "outputs": []
    },
    {
      "cell_type": "code",
      "source": [
        "install.packages(\"GGally\")\n",
        "library(GGally)\n",
        "install.packages(\"pander\")\n",
        "library(pander)\n",
        "install.packages(\"glmnet\")\n",
        "library('glmnet')\n",
        "#install.packages(\"ggthemes\")\n",
        "#library(ggthemes)\n",
        "\n",
        "install.packages(\"lmtest\")\n",
        "library(lmtest)\n",
        "install.packages(\"ggplot2\")\n",
        "library(ggplot2)\n",
        "install.packages(\"ggpubr\")\n",
        "library(ggpubr)\n",
        "#install.packages(\"car\")\n",
        "#library(\"car\")\n",
        "#install.packages(\"olsrr\")\n",
        "#library(\"olsrr\")\n",
        "#install.packages(\"ggfortify\")\n",
        "#library(\"ggfortify\")\n",
        "install.packages(\"data.table\")\n",
        "library(data.table)\n",
        "install.packages(\"dplyr\")\n",
        "library(dplyr)\n",
        "install.packages(\"tidyr\")\n",
        "library(tidyr)\n",
        "install.packages(\"MASS\")\n",
        "library(MASS)\n",
        "\n"
      ],
      "metadata": {
        "id": "iah6Ip255VPJ"
      },
      "execution_count": null,
      "outputs": []
    },
    {
      "cell_type": "code",
      "source": [
        "install.packages('repr')\n",
        "library(repr)\n"
      ],
      "metadata": {
        "id": "TUlhFiLPTbE5"
      },
      "execution_count": null,
      "outputs": []
    },
    {
      "cell_type": "code",
      "metadata": {
        "id": "VxBIs-aDYMxd"
      },
      "source": [
        "data_train <- \"https://raw.githubusercontent.com/francji1/01ZLMA/main/data/heart_train.csv\"\n",
        "data_train  <- read.table(data_train, header = T, sep = \",\")\n",
        "head(data_train)"
      ],
      "execution_count": null,
      "outputs": []
    },
    {
      "cell_type": "code",
      "metadata": {
        "id": "9A3cpB71DbeX"
      },
      "source": [
        "data_test <- \"https://raw.githubusercontent.com/francji1/01ZLMA/main/data/heart_test.csv\"\n",
        "data_test  <- read.table(data_test, header = T, sep = \",\")\n",
        "head(data_test)"
      ],
      "execution_count": null,
      "outputs": []
    },
    {
      "cell_type": "markdown",
      "metadata": {
        "id": "OLW3sGXWvqYw"
      },
      "source": [
        "### Vytvoření agregované tabulky "
      ]
    },
    {
      "cell_type": "code",
      "metadata": {
        "id": "0-jGCOkptI6E"
      },
      "source": [
        "data_table <- data_train %>%\n",
        "   dplyr::select(age, sex, blood_pressure,disease) %>%\n",
        "   mutate(age             = cut(age, breaks=c(-Inf, 44,60, Inf),labels=c(\"30-45\",\"45-60\",\"60-75\")),\n",
        "          blood_pressure  = cut(blood_pressure, breaks=c(-Inf, 120,130,140,Inf),labels=c(\"100-120\",\"121-130\",\"131-140\",\"140-180\"))) %>%\n",
        "  group_by(age,blood_pressure) %>%\n",
        "  summarise(n = n(),\n",
        "         disease_yes = sum(disease),\n",
        "         disease_no = n - sum(disease)\n",
        "        )        \n",
        "   data_table"
      ],
      "execution_count": null,
      "outputs": []
    },
    {
      "cell_type": "markdown",
      "metadata": {
        "id": "EgmJdEeF3nVh"
      },
      "source": [
        "## 01 - Grafické zobrazení dat (potřeba získat 2 / maximálně možno získat 3)\n",
        "\n",
        "Použijte `data_train`. Nejen pro lepší práci a názornější grafy můžete kódové označení ve faktorových proměnných nahradit popisy ze zadání."
      ]
    },
    {
      "cell_type": "markdown",
      "metadata": {
        "id": "vMCUrJCh3-Lr"
      },
      "source": [
        "* Vyberte kategorické proměnné, převeďte je na faktory a přejmenujte z kódových názvů podle popisu dat.\n",
        "* Zobrazte diskrétní proměnné pomocí histogramu, kde barevně rozlišíte mezi pacienty s vadou a bez vady srdce (target 0/1)\n",
        "* Jednotlivé spojité proměnné zobrazte pomocí dvou boxplotu dle odezvy (s nemoci/bez nemoci) a pomoci scatterplotů mezi sebou, kde barevně oddělíte jednotlivé body opět podle odezvy (s nemocí srdce / bez nemoci srdce) "
      ]
    },
    {
      "cell_type": "markdown",
      "source": [
        "**01-1** Vyberte kategorické proměnné, převeďte je na faktory a přejmenujte z kódových názvů podle popisu dat."
      ],
      "metadata": {
        "id": "UC066xfnl-9J"
      }
    },
    {
      "cell_type": "code",
      "source": [
        "data_train$sex <- factor(data_train$sex)\n",
        "data_train$chest_pain_type<-factor(data_train$chest_pain_type,labels=c(\"asymptomatic\",\"atypical\",\"pain\",\"typical\"))\n",
        "data_train$blood_sugar<-factor(data_train$blood_sugar,labels=c(\"less\",\"more\"))\n",
        "data_train$rest_ecg<-factor(data_train$rest_ecg,labels=c(\"hypertrophy\",\"normal\",\"abnormality\"))\n",
        "data_train$ex_angina<-factor(data_train$ex_angina,labels=c(\"no\",\"yes\"))\n",
        "data_train$st_slope<-factor(data_train$st_slope,labels=c(\"downsloping\",\"flat\",\"upsloping\"))\n",
        "data_train$thal<-factor(data_train$thal,labels=c('no',\"fixed\",\"normal\",\"reversable\"))\n",
        "data_train$disease<-factor(data_train$disease,labels=c('no','yes'))\n",
        "\n",
        "summary(data_train)"
      ],
      "metadata": {
        "id": "7Yw_Bc9iMNme"
      },
      "execution_count": null,
      "outputs": []
    },
    {
      "cell_type": "markdown",
      "source": [
        "**01-2** Zobrazte diskrétní proměnné pomocí histogramu, kde barevně rozlišíte mezi pacienty s vadou a bez vady srdce (target 0/1):"
      ],
      "metadata": {
        "id": "li3lsnUpmMwt"
      }
    },
    {
      "cell_type": "code",
      "source": [
        "options(repr.plot.width=10, repr.plot.height=5)\n",
        "ggplot(gather(data_train, key, value, -c(disease,sex,chest_pain_type,blood_sugar,rest_ecg,ex_angina,st_slope,thal,cholesterol,blood_pressure,heart_rate,st_depression)), aes(value, fill=disease)) + \n",
        "  geom_histogram(position = \"identity\", alpha = 0.4,bins = 20) + \n",
        "  facet_wrap(~key, scales = 'free')"
      ],
      "metadata": {
        "id": "2_LCx5UyMkIE"
      },
      "execution_count": null,
      "outputs": []
    },
    {
      "cell_type": "markdown",
      "source": [
        "**01-3** Jednotlivé spojité proměnné zobrazte pomocí dvou boxplotu dle odezvy (s nemoci/bez nemoci) a pomoci scatterplotů mezi sebou, kde barevně oddělíte jednotlivé body opět podle odezvy (s nemocí srdce / bez nemoci srdce):\n",
        "\n"
      ],
      "metadata": {
        "id": "8FKVaDhTmWI-"
      }
    },
    {
      "cell_type": "code",
      "source": [
        "options(repr.plot.width=15, repr.plot.height=10)\n",
        "\n",
        "ch<-ggplot(data_train, mapping=aes(disease, cholesterol,fill=disease)) +\n",
        "  geom_boxplot(alpha=0.4) +\n",
        "  xlab(\"Disease\") + ylab(\"Cholesterol\")\n",
        "bp<-ggplot(data_train, mapping=aes(disease, blood_pressure,fill=disease)) +\n",
        "  geom_boxplot(alpha=0.4) +\n",
        "  xlab(\"Disease\") + ylab(\"Blood pressure\")\n",
        "hr<- ggplot(data_train, mapping=aes(disease, heart_rate,fill=disease)) +\n",
        "  geom_boxplot(alpha=0.4) +\n",
        "  xlab(\"Disease\") + ylab(\"Herat rate\")\n",
        "std<-ggplot(data_train, mapping=aes(disease, st_depression,fill=disease)) +\n",
        "  geom_boxplot(alpha=0.4) +\n",
        "  xlab(\"Disease\") + ylab(\"Depression\")\n",
        "ggarrange(ch,bp,hr,std,\n",
        "          ncol = 2, nrow = 2)"
      ],
      "metadata": {
        "id": "mK41dDTHXOMQ"
      },
      "execution_count": null,
      "outputs": []
    },
    {
      "cell_type": "code",
      "source": [
        "options(repr.plot.width=20, repr.plot.height=15)\n",
        "\n",
        "ch_bp<-ggplot(data_train, mapping=aes(cholesterol, blood_pressure, colour = disease)) +\n",
        "  geom_point() +\n",
        "  xlab(\"Cholesterol\") + ylab(\"Blood pressure\")+labs(colour=\"Disease\")\n",
        "ch_bp<-ggplot(data_train, mapping=aes(cholesterol, heart_rate, colour = disease)) +\n",
        "  geom_point() +\n",
        "  xlab(\"Cholesterol\") + ylab(\"Heart rate\")+labs(colour=\"Disease\")\n",
        "ch_std<-ggplot(data_train, mapping=aes(cholesterol, st_depression, colour = disease)) +\n",
        "  geom_point() +\n",
        "  xlab(\"Cholesterol\") + ylab(\"Depression\")+labs(colour=\"Disease\")\n",
        "bp_hr<-ggplot(data_train, mapping=aes(blood_pressure,heart_rate, colour = disease)) +\n",
        "  geom_point() +\n",
        "  xlab(\"Blood pressure\") + ylab(\"Heart rate\")+labs(colour=\"Disease\")\n",
        "bp_std<-ggplot(data_train, mapping=aes(blood_pressure, st_depression, colour = disease)) +\n",
        "  geom_point() +\n",
        "  xlab(\"Blood pressure\") + ylab(\"Depression\")+labs(colour=\"Disease\")\n",
        "hr_std<-ggplot(data_train, mapping=aes(heart_rate, st_depression, colour = disease)) +\n",
        "  geom_point() +\n",
        "  xlab(\"Heart rate\") + ylab(\"Depression\")+labs(colour=\"Disease\")\n",
        "\n",
        "ggarrange(ch_bp,ch_bp,ch_std,bp_hr,bp_std,hr_std,\n",
        "          ncol = 3, nrow = 2)"
      ],
      "metadata": {
        "id": "LTQB1Kv4XKyL"
      },
      "execution_count": null,
      "outputs": []
    },
    {
      "cell_type": "markdown",
      "metadata": {
        "id": "VZVWRKez4CEl"
      },
      "source": [
        "## 02 - Logistická regrese agregovaná tabulková data (3/5)\n",
        "\n",
        "použijte `data_table`\n",
        "\n",
        "\n",
        "\n"
      ]
    },
    {
      "cell_type": "markdown",
      "metadata": {
        "id": "zYO0I9eJ614V"
      },
      "source": [
        "* Vytvořte odezvu pro logistický model binomického rozdělení a sestrojte nulový model. Jaká je ve zkoumané populaci  průměrná šance na srdeční chorobu a jaká je pravděpodobnost srdeční choroby? \n",
        "\n",
        "* Sestrojte model, kde závisí výskyt srdeční choroby pouze na tlaku. Je vliv tlaku statisticky významná proměnná na hladině významnosti 0.05? Pokud ano, zjistěte, kolikrát mají pacienti se srdečním tlakem mezi 140 a 180 vetší šanci na srdeční chorobu než pacienti s tlakem mezi 100 a 120.\n",
        "\n",
        "* Sestrojte model, kde závisí výskyt srdeční choroby pouze na věku. Je věku  statisticky významná proměnná na hladině významnosti 0.01? Pokud ano, zjistěte, kolikrát mají pacienti ve věku mezi 60-75 a vetší šanci na srdeční chorobu než pacienti ve věku 45-60.\n",
        "\n",
        "* Předpokládejte, že šance na srdeční chorobu roste exponenciálně s hodnotou tlaku a exponenciálně s věkem. Vytvořte příslušné numerické spojité prediktory, jakožto středy intervalů tlaku a věku. Sestrojte model, kde šance na srdeční chorobu bude záležet na numerických hodnotách tlaku a věku (bez interakce). Jaký je poměr šancí na srdeční chorobu mezi pacienty lišícími se o 10 let a majícími stejný tlak? \n",
        "\n",
        "* Otestujte předešlý model proti saturovanému modelu. Má tento test opodstatnění? Okomentujte jeho výsledek. "
      ]
    },
    {
      "cell_type": "markdown",
      "source": [
        "**02-1** Vytvořte odezvu pro logistický model binomického rozdělení a sestrojte nulový model. Jaká je ve zkoumané populaci průměrná šance na srdeční chorobu a jaká je pravděpodobnost srdeční choroby?\n",
        "\n"
      ],
      "metadata": {
        "id": "SmySOnD_oFQm"
      }
    },
    {
      "cell_type": "code",
      "source": [
        "#data_table\n",
        "dis<- cbind(data_table$disease_yes,data_table$disease_no)\n",
        "model_min <- glm(dis~1,data=data_table,family=binomial)\n",
        "summary(model_min)"
      ],
      "metadata": {
        "id": "XHtunk3hl79U"
      },
      "execution_count": null,
      "outputs": []
    },
    {
      "cell_type": "markdown",
      "source": [
        "*Šanca na srdcovú chorobu a pravdepodobnosť srdcovej choroby:*"
      ],
      "metadata": {
        "id": "yI1EUGV0QkdI"
      }
    },
    {
      "cell_type": "code",
      "source": [
        "odds<-exp(coef(model_min))\n",
        "c('Sanca:',odds) #sanca na srdcovu chorobu \n",
        "prob<-odds/(1+odds)\n",
        "c('Pravdepodobnost:', prob) #pravdepodobnost srdcovej choroby"
      ],
      "metadata": {
        "id": "stMDBLgTQjpb"
      },
      "execution_count": null,
      "outputs": []
    },
    {
      "cell_type": "markdown",
      "source": [
        "**02-2** Sestrojte model, kde závisí výskyt srdeční choroby pouze na tlaku. Je vliv \n",
        "tlaku statisticky významná proměnná na hladině významnosti 0.05?\n",
        "Pokud ano, zjistěte, kolikrát mají pacienti se srdečním tlakem mezi 140 a 180 vetší šanci na srdeční chorobu než pacienti s tlakem mezi 100 a 120."
      ],
      "metadata": {
        "id": "qtx28L0xx514"
      }
    },
    {
      "cell_type": "code",
      "source": [
        "model_pressure <- glm(dis~blood_pressure,data=data_table,family=binomial)\n",
        "summary(model_pressure) #hodnoty tlaku medzi 140-180 su statisticky vzynamne"
      ],
      "metadata": {
        "id": "SDCIrIpiv_rv"
      },
      "execution_count": null,
      "outputs": []
    },
    {
      "cell_type": "markdown",
      "source": [
        "*Hodnoty tlaku medzi 140-180 su štatisticky vzýnamné na hladine 0,05. Kolikrát mají pacienti se srdečním tlakem mezi 140 a 180 vetší šanci na srdeční chorobu než pacienti s tlakem mezi 100 a 120:*"
      ],
      "metadata": {
        "id": "Qote-r-fCM2h"
      }
    },
    {
      "cell_type": "code",
      "source": [
        "data_pressure <- data_table %>% \n",
        "  mutate(blood_pressure = relevel(blood_pressure, ref = \"100-120\"))\n",
        "model_100_120 <- glm(dis~blood_pressure,data=data_pressure,family=binomial)\n",
        "#summary(model_100_120)\n",
        "OR_pressure<-exp(coef(model_100_120)[4])\n",
        "OR_pressure #sanca na srdcovu chorobu pre tlak 140-180 je 2,76*vyssia ako pri tlaku 100-120"
      ],
      "metadata": {
        "id": "fODu69blCjHS"
      },
      "execution_count": null,
      "outputs": []
    },
    {
      "cell_type": "markdown",
      "source": [
        "*Šanca na srdcovú chorobu pre tlak 140-180 je 2,76-krát vyššia ako pri tlaku 100-120.*"
      ],
      "metadata": {
        "id": "BgBbjg_xCmtc"
      }
    },
    {
      "cell_type": "markdown",
      "source": [
        "**02-3** Sestrojte model, kde závisí výskyt srdeční choroby pouze na věku.\n",
        "Je věku  statisticky významná proměnná na hladině významnosti 0.01? \n",
        "Pokud ano, zjistěte, kolikrát mají pacienti ve věku mezi 60-75 a vetší šanci na srdeční chorobu než pacienti ve věku 45-60."
      ],
      "metadata": {
        "id": "q9tKPr_Jx_J-"
      }
    },
    {
      "cell_type": "code",
      "source": [
        "model_age <- glm(dis~age,data=data_table,family=binomial)\n",
        "summary(model_age) "
      ],
      "metadata": {
        "id": "Sqt70RogwHEw"
      },
      "execution_count": null,
      "outputs": []
    },
    {
      "cell_type": "markdown",
      "source": [
        "*Věk je štatisticky významná proměnná na hladině významnosti 0.01. Kolikrát mají pacienti ve věku mezi 60-75 a vetší šanci na srdeční chorobu než pacienti ve věku 45-60:*"
      ],
      "metadata": {
        "id": "1nFIWIReDFUg"
      }
    },
    {
      "cell_type": "code",
      "source": [
        "data_age <- data_table %>% \n",
        "  mutate(age = relevel(age, ref = \"60-75\"))\n",
        "model_60_75<- glm(dis~age,data=data_age,family=binomial)\n",
        "OR_age<-exp(coef(model_60_75)[3])\n",
        "OR_age "
      ],
      "metadata": {
        "id": "u5ItLz-BDVsp"
      },
      "execution_count": null,
      "outputs": []
    },
    {
      "cell_type": "markdown",
      "source": [
        "*Šanca na srdcovú chorobu pre vek 45-60 je približne 0.7-krát nižšsia ako pri veku 60-75.*"
      ],
      "metadata": {
        "id": "O-qI2WP2Da3L"
      }
    },
    {
      "cell_type": "markdown",
      "source": [
        "**02-4** Předpokládejte, že šance na srdeční chorobu roste exponenciálně \n",
        "s hodnotou tlaku a exponenciálně s věkem. Vytvořte příslušné \n",
        "numerické spojité prediktory, jakožto středy intervalů tlaku \n",
        "a věku. Sestrojte model, kde šance na srdeční chorobu bude \n",
        "záležet na numerických hodnotách tlaku a věku (bez interakce).\n",
        "Jaký je poměr šancí na srdeční chorobu mezi pacienty lišícími \n",
        "se o 10 let a majícími stejný tlak?"
      ],
      "metadata": {
        "id": "k6gL_df1yFYZ"
      }
    },
    {
      "cell_type": "code",
      "source": [
        "data_table1<-data_table\n",
        "levels(data_table1$age)<-c((30+45)/2,(45+60)/2,(60+75)/2)\n",
        "data_table1$age<-as.numeric(levels(data_table1$age))[data_table1$age]\n",
        "levels(data_table1$blood_pressure)<-c('110.0','126.5','136.5','160.0')\n",
        "data_table1$blood_pressure<-as.numeric(levels(data_table1$blood_pressure))[data_table1$blood_pressure]\n",
        "print(data_table1)\n",
        "model_pressure_age <- glm(dis~blood_pressure+age,data=data_table1,family=binomial)\n",
        "summary(model_pressure_age)"
      ],
      "metadata": {
        "id": "zQ2770PuwMAS"
      },
      "execution_count": null,
      "outputs": []
    },
    {
      "cell_type": "markdown",
      "source": [
        "*Poměr šancí na srdeční chorobu mezi pacienty lišícími se o 10 let a majícími stejný tlak*:\n"
      ],
      "metadata": {
        "id": "kfZ2TKUtEyZ3"
      }
    },
    {
      "cell_type": "code",
      "source": [
        "OR_pressure_age <- coef(model_pressure_age)\n",
        "c <- 10\n",
        "OR_pressure_age <- exp(c*OR_pressure_age[3])\n",
        "OR_pressure_age#zvysi sa 1.4262*"
      ],
      "metadata": {
        "id": "GtXRupkAFAwK"
      },
      "execution_count": null,
      "outputs": []
    },
    {
      "cell_type": "markdown",
      "source": [
        "**02-5** Otestujte předešlý model proti saturovanému modelu. Má tento test opodstatnění? Okomentujte jeho výsledek. "
      ],
      "metadata": {
        "id": "lTGb38HpyJcD"
      }
    },
    {
      "cell_type": "code",
      "source": [
        "x<-as.factor(1:length(data_table1$blood_pressure))\n",
        "SATmodel_pressure_age <- glm(dis~x,data=data_table1,family=binomial)\n",
        "anova(model_pressure_age,SATmodel_pressure_age,test=\"Chisq\")\n",
        "#\n",
        "#dev.sat <- deviance(SATmodel_pressure_age)\n",
        "#dev.sat"
      ],
      "metadata": {
        "id": "0RRR1I4_wQTF"
      },
      "execution_count": null,
      "outputs": []
    },
    {
      "cell_type": "markdown",
      "source": [
        "*p-hodnota ANOVA testu je >0,05, zamietame hypotezu, ze saturovany model je štatisticky významne lepší ako model bez interakcie. Aby rozdelenie deviačnej štatistiky bolo blízke asymptotickému, je treba, aby $min(y_i)≥3$ a $min(n_i−y_i)≥3$.*"
      ],
      "metadata": {
        "id": "UuuKUpYHGSMQ"
      }
    },
    {
      "cell_type": "markdown",
      "source": [
        "*Riadky tabulky nesplnaju $min(y_i)≥3$:*"
      ],
      "metadata": {
        "id": "0epF3jn9eK1f"
      }
    },
    {
      "cell_type": "code",
      "source": [
        "data_table1[rowSums(data_table1[,4] <3) > 0, ]"
      ],
      "metadata": {
        "id": "NcZiCgjIbUQS"
      },
      "execution_count": null,
      "outputs": []
    },
    {
      "cell_type": "markdown",
      "source": [
        "*Riadky tabulky nesplnaju $min(n_i−y_i)≥3$:*"
      ],
      "metadata": {
        "id": "aI7-IcSGeZqV"
      }
    },
    {
      "cell_type": "code",
      "source": [
        "data_table1[rowSums(data_table1[,5] <3) > 0, ]"
      ],
      "metadata": {
        "id": "Gh-U89N3eaUy"
      },
      "execution_count": null,
      "outputs": []
    },
    {
      "cell_type": "markdown",
      "source": [
        "*Z predchádzajúcich tabuliek vidíme, že obidve podmienky sú porušené, test teda nemá opodstatnenie.*"
      ],
      "metadata": {
        "id": "zJz7H3Z7er4-"
      }
    },
    {
      "cell_type": "markdown",
      "metadata": {
        "id": "-__6HiYk65CB"
      },
      "source": [
        "## 03 - Poissonovská regrese na agregovaná tabulková data (4/7)\n",
        "\n",
        "použijte  `data_table`\n"
      ]
    },
    {
      "cell_type": "markdown",
      "metadata": {
        "id": "ZC__j9ZiY-aG"
      },
      "source": [
        "* Upravte tabulku do potřebného formátu a sestrojte čistě aditivní loglineární model pro četnosti pozorování ve skupinách, který předpokládá vzájemnou\n",
        "nezávislost mezi všemi třemi skupinovými prediktory (věk, tlak, oneocnění).\n",
        "\n",
        "* Na základě předchozího modelu, jaký je odhad šance na srdeční onemocnění mezi všemi vybranými pacienty a jaký je odhad pravděpodobnosti srdeční choroby?\n",
        "\n",
        "* Sestavte model, který obsahuje všechny možné dvojné interakce mezi klasifikačními veličinami a porovnejte tento model s předchozím modelem bez interakcí. Je tento model statisticky významně lepší?\n",
        "\n",
        "* Na základě předchozího modelu, jaký je odhad poměru šancí na srdeční onemocnění pacientů ve věku mezi 60-75 oproti pacientům ve věku 45-60?\n",
        "\n",
        "* Sestavte saturovaný model a vypište odhady jeho parametrů parametry. Je tento model statisticky významně lepší než předchozí s dvojtými interakcemi? \n",
        "\n",
        "* Na základě saturovaného modelu, je ve všech věkových skupinách stejná souvislost mezi tlakem a onemocněním srdce?\n",
        "\n",
        "* Ve které věkové kategorii je největší rozdíl v onemocnění srdce mezi\n",
        "lidmi s tlakem menším než 120 a s lidmi s tlakem větším než 140?\n"
      ]
    },
    {
      "cell_type": "markdown",
      "source": [
        "**03-1** Upravte tabulku do potřebného formátu a sestrojte čistě aditivní loglineární model pro četnosti pozorování \n",
        "ve skupinách, který předpokládá vzájemnou\n",
        "nezávislost mezi všemi třemi skupinovými \n",
        "prediktory (věk, tlak, oneocnění)."
      ],
      "metadata": {
        "id": "bSEFmQcUyNqJ"
      }
    },
    {
      "cell_type": "code",
      "source": [
        "install.packages(\"vcdExtra\")\n",
        "library(vcdExtra)"
      ],
      "metadata": {
        "id": "hx_-HXnkfEgE"
      },
      "execution_count": null,
      "outputs": []
    },
    {
      "cell_type": "code",
      "source": [
        "tab<-expand.table(data_table,freq ='n' )\n",
        "\n",
        "disease<-c()\n",
        "for (i in 1:length(data_table$disease_yes)){\n",
        "  disease<-append(disease,rep(1,data_table$disease_yes[i]))\n",
        "  disease<-append(disease,rep(0,data_table$disease_no[i]))\n",
        "}\n",
        "tab$disease<-disease\n",
        "tab<-tab[,-(3:4)]\n",
        "\n",
        "table_form<-table(tab$blood_pressure, tab$age,tab$disease)\n",
        "table_form<-ftable(table_form ,row.vars=3:2,col.vars = 1)\n",
        "freq_tbl<-as.data.frame(table_form)\n",
        "colnames(freq_tbl)<-c('disease','age','blood_pressure','Freq')\n",
        "freq_tbl\n"
      ],
      "metadata": {
        "id": "bYzMtKY0w5Sm"
      },
      "execution_count": null,
      "outputs": []
    },
    {
      "cell_type": "markdown",
      "source": [
        "*Aditívny loglineárny model.*"
      ],
      "metadata": {
        "id": "hdzehtHKfRgm"
      }
    },
    {
      "cell_type": "code",
      "source": [
        "mdl <- glm(Freq ~ blood_pressure + age+disease,data=freq_tbl, family=poisson(link=\"log\"))\n",
        "  summary(mdl)\n",
        "#mdl_result<- c(deviance(mdl),df.residual(mdl))\n",
        "#1-pchisq(q = mdl_result[1], df = mdl_result[2], lower.tail = F)\n",
        "#vyjde p-hodnota...zamietame hypotezu ze su vzajomne nezavisle "
      ],
      "metadata": {
        "id": "02-xhhAOfLcO"
      },
      "execution_count": null,
      "outputs": []
    },
    {
      "cell_type": "markdown",
      "source": [
        "**03-2** Na základě předchozího modelu, jaký je odhad šance na srdeční \n",
        "onemocnění mezi všemi vybranými pacienty a jaký je odhad pravděpodobnosti \n",
        "srdeční choroby?"
      ],
      "metadata": {
        "id": "vkCp8s3D0oRR"
      }
    },
    {
      "cell_type": "code",
      "source": [
        "odds_disease=exp(coef(mdl)[7])\n",
        "odds_disease\n",
        "probability <- (odds_disease)/(1+odds_disease)\n",
        "probability"
      ],
      "metadata": {
        "id": "cVRXTp1W0krB"
      },
      "execution_count": null,
      "outputs": []
    },
    {
      "cell_type": "markdown",
      "source": [
        "*Šanca ze ma chorobu je 0.82-krát menšia ako, že je zdravý. Pravdepodobnosť, že má chorobu je 0.45.*"
      ],
      "metadata": {
        "id": "27M8BoM4f34r"
      }
    },
    {
      "cell_type": "markdown",
      "source": [
        "**03-3** Sestavte model, který obsahuje všechny možné dvojné interakce\n",
        "mezi klasifikačními veličinami a porovnejte tento model \n",
        "s předchozím modelem bez interakcí. \n",
        "Je tento model statisticky významně lepší?"
      ],
      "metadata": {
        "id": "m7XSDyeZzAOm"
      }
    },
    {
      "cell_type": "code",
      "source": [
        "mdl_interactions <- glm(Freq ~.^2,data=freq_tbl, family=poisson(link=\"log\"))\n",
        "summary(mdl_interactions)"
      ],
      "metadata": {
        "id": "TGBd-pcWy-9M"
      },
      "execution_count": null,
      "outputs": []
    },
    {
      "cell_type": "code",
      "source": [
        "anova(mdl,mdl_interactions,test=\"Chisq\") \n",
        "c('AIC dvojne interakcie:',AIC(mdl_interactions))\n",
        "c('BIC dvojne interakcie:',BIC(mdl_interactions))\n",
        "c('AIC predchadzajuci model:',AIC(mdl))\n",
        "c('BIC predchadzajuci model:',BIC(mdl))\n"
      ],
      "metadata": {
        "id": "8gz-2p_5g2Rg"
      },
      "execution_count": null,
      "outputs": []
    },
    {
      "cell_type": "markdown",
      "source": [
        "*Model s dvojnými interakciami je statisticky vyznamne lepsi na základe prevedeného ANOVA testu. Hodnoty AIC a BIC sú pre tento model rovnako lepšie. Model s dvojnými interakciami je teda lepši oproti predošlému modelu.*\n"
      ],
      "metadata": {
        "id": "GgPmcZZNhYTL"
      }
    },
    {
      "cell_type": "markdown",
      "source": [
        "**03-4** Na základě předchozího modelu, jaký je odhad poměru šancí na srdeční onemocnění pacientů ve věku mezi 60-75 oproti pacientům ve věku 45-60?"
      ],
      "metadata": {
        "id": "6KKi4X6CzJUc"
      }
    },
    {
      "cell_type": "code",
      "source": [
        "freq_age <- freq_tbl %>% \n",
        "  mutate(age = relevel(age, ref = \"45-60\"))\n",
        "mdl_interactions_age <- glm(Freq ~.^2,data=freq_age, family=poisson(link=\"log\"))\n",
        "summary(mdl_interactions_age)"
      ],
      "metadata": {
        "id": "utwgW9YNxsEz"
      },
      "execution_count": null,
      "outputs": []
    },
    {
      "cell_type": "markdown",
      "source": [
        "*Odhad poměru šancí na srdeční onemocnění pacientů ve věku mezi 60-75 oproti pacientům ve věku 45-60:*"
      ],
      "metadata": {
        "id": "jg-yb43_h9pr"
      }
    },
    {
      "cell_type": "code",
      "source": [
        "OR<-exp(coef(mdl_interactions_age)[4])\n",
        "OR"
      ],
      "metadata": {
        "id": "K1E9J5cRh81j"
      },
      "execution_count": null,
      "outputs": []
    },
    {
      "cell_type": "markdown",
      "source": [
        "**03-5** Sestavte saturovaný model a vypište odhady jeho \n",
        "parametrů parametry. Je tento model statisticky \n",
        "významně lepší než předchozí s dvojtými interakcemi?"
      ],
      "metadata": {
        "id": "5nTTwZMVzVGK"
      }
    },
    {
      "cell_type": "code",
      "source": [
        "mdl_sat <- glm(Freq ~age*blood_pressure*disease,data=freq_tbl, family=poisson(link=\"log\"))\n",
        "tibble(coef=names(coef(mdl_sat)),\n",
        "           coef_value=coef(mdl_sat),\n",
        "           exp_coef_value=exp(coef(mdl_sat)))\n",
        "summary(mdl_sat)"
      ],
      "metadata": {
        "id": "f-NG86OTzVTb"
      },
      "execution_count": null,
      "outputs": []
    },
    {
      "cell_type": "code",
      "source": [
        "anova(mdl_interactions,mdl_sat,test=\"Chisq\")"
      ],
      "metadata": {
        "id": "Gg9jZPvkinta"
      },
      "execution_count": null,
      "outputs": []
    },
    {
      "cell_type": "markdown",
      "source": [
        "*Model nie je štatisticky významne lepší než model s dvojnými interakciami*"
      ],
      "metadata": {
        "id": "V0O7HHhYjn-I"
      }
    },
    {
      "cell_type": "markdown",
      "source": [
        "**03-6** Na základě saturovaného modelu, je ve všech věkových \n",
        "skupinách stejná souvislost mezi tlakem a onemocněním srdce?"
      ],
      "metadata": {
        "id": "-Thvcmuuzh-0"
      }
    },
    {
      "cell_type": "markdown",
      "source": [
        "*Súvislosť medzi tlakom a ochorením srdca budeme skúmať vymazaním všetkých interakcií tlaku a ochorenia v saturovanom modeli a následným testovaním, hypotézy, že model dobre popisuje dáta.*"
      ],
      "metadata": {
        "id": "rl8RQe8kklyT"
      }
    },
    {
      "cell_type": "code",
      "source": [
        "model_pressure_disease<-glm(Freq~age*blood_pressure*disease-blood_pressure:age:disease-blood_pressure:disease,data=freq_tbl, family=poisson(link=\"log\"))"
      ],
      "metadata": {
        "id": "QHBMk3pNzieD"
      },
      "execution_count": null,
      "outputs": []
    },
    {
      "cell_type": "code",
      "source": [
        "mdl_result<- c(deviance(model_pressure_disease),df.residual(model_pressure_disease))\n",
        "pchisq(q = mdl_result[1], df = mdl_result[2], lower.tail = F)"
      ],
      "metadata": {
        "id": "GIT_R1kKlREB"
      },
      "execution_count": null,
      "outputs": []
    },
    {
      "cell_type": "markdown",
      "source": [
        "*p-hodnota testu je 0.298472932401528. Hypotézu, že model dobre popisuje data sme na hladine významnosti 0.05 nezamietli, preto zamietam hypotezu suvislosti tlaku a choroby.*"
      ],
      "metadata": {
        "id": "83K9GO_7mHmQ"
      }
    },
    {
      "cell_type": "markdown",
      "source": [
        "**03-7** Ve které věkové kategorii je největší rozdíl v \n",
        "onemocnění srdce mezi lidmi s tlakem menším než \n",
        "120 a s lidmi s tlakem větším než 140?"
      ],
      "metadata": {
        "id": "uqAJLSR1zszb"
      }
    },
    {
      "cell_type": "markdown",
      "source": [
        "*Z tabuľky som odčítala počty ľudí ktorí majú v danej vekovej kategórii chorobu a tlak nad 120 od počtu ľudí v rovnakej vekovej kategórii s choroboou a tlakom nad 140. Tieto hodnoty som ešte pre každý vek normalizovala celkovým počtom ľudí ktorí chodobu majú v danej vekovej kategórii.*"
      ],
      "metadata": {
        "id": "ausxBXVwtro6"
      }
    },
    {
      "cell_type": "code",
      "source": [
        "disease_under<-table_form[,1][4:6]\n",
        "disease_over<-table_form[,4][4:6]\n",
        "\n",
        "c('30-45',abs(disease_under-disease_over)[1]/sum(table_form[4,]))\n",
        "#'pod 120:',disease_under[1]/sum(table_form[4,]),'nad 140:',disease_over[1]/sum(table_form[4,]), 'rozdiel:',abs(disease_under-disease_over)[1]/sum(table_form[4,]))\n",
        "c('45-60',abs(disease_under-disease_over)[2]/sum(table_form[5,]))\n",
        "#disease_under[2]/sum(table_form[5,]),'nad 140:',disease_over[2]/sum(table_form[5,]), 'rozdiel:',abs(disease_under-disease_over)[2]/sum(table_form[5,]))\n",
        "c('60-75',abs(disease_under-disease_over)[3]/sum(table_form[6,]))\n",
        "#'pod 120:',disease_under[3]/sum(table_form[6,]),'nad 140:',disease_over[3]/sum(table_form[6,]), 'rozdiel:',\n",
        "\n"
      ],
      "metadata": {
        "id": "85RM_hf9zs85"
      },
      "execution_count": null,
      "outputs": []
    },
    {
      "cell_type": "markdown",
      "source": [
        "*Vo vekovej kategórii 30-45 rokov je najväčší rozdiel medzi ochorením srdca pri tlaku menšom ako 120 a väčšiom ako 140.*"
      ],
      "metadata": {
        "id": "1y-6aeMGunSz"
      }
    },
    {
      "cell_type": "markdown",
      "metadata": {
        "id": "FvKc5AMX7IRJ"
      },
      "source": [
        "## 04 - Logistická regrese - statistika (5/8)\n",
        "\n",
        "Nyní již používejte `data_train`"
      ]
    },
    {
      "cell_type": "markdown",
      "metadata": {
        "id": "oJjsyaKi7ahB"
      },
      "source": [
        "* Vypište kontingenční tabulku pro proměnné pohlaví (`sex`) a onemocnění (`disease`). Ručně z tabulky spočtěte empirický poměr šancí na onemocnění srdce (muž vs. žena) a pravděpodobnost onemocnění pro ženu a muže. Výsledek porovnejte s výsledky z logistické regrese, kde jediným prediktorem bude právě proměnná `sex` a odezvou proměnná `disease`. Pro poměr šancí uveďte i 95% konfidenční interval a okometujte, zdali mají ženy signifikantně menší šanci na onemocnění srdce.\n",
        "\n",
        "* Vypište kontingenční tabulku pro proměnné typ bolesti (`chest_pain_type`) a onemocnění (`disease`). Ručně z tabulky spočtěte empirický poměr šancí na onemocnění srdce (type 0: asymptomatic, proti ostatním) a pravděpodobnosti onemocnění pro jednotlivé typy. Výsledek porovnejte s výsledky z logistické regrese, kde jediným prediktorem bude právě proměnná `chest_pain_type` a odezvou proměnná `disease`. Pro poměr šancí uveďte i 95% konfidenční interval a okometujte, zdali mají pacienti s asymptomatickou bolestí signifikantně menší šanci na onemocnění srdce oproti ostatním typům bolestí.\n",
        "\n",
        "* Sestavte model, kde použijete všechny dostupné proměnné (jak faktorové tak numerické). Pomocí deviančních testů model postupně redukujte. Výsledný model porovnejte s modelem, který byste obdrželi při použití automatického výběru s funkcí `step()`.\n",
        "\n",
        "* Pro vybraný model spočtěte šanci na srdeční onemocnění pro muže oproti ženám, včetně 95% konfidenčních intervalů. Stejně tak pro asymptomaticky typ bolesti na hrudi proti ostatním. Jak se výsledek změnil oproti jednoduchým modelům a jak byste tuto změnu vysvětlili?\n",
        "\n",
        "* (2b) Použijte váš model a spočtěte odhad pravděpodobnosti srdeční choroby pro testovací data vykreslete pro proměnou `blood_pressure` predikční konfidenční intervaly. \n",
        "Nápověda krom cvičení, také třeba zde: https://fromthebottomoftheheap.net/2017/05/01/glm-prediction-intervals-i/\n",
        "\n",
        "* (2b) Na základě trénovacích dat zvolte vhodný treshold pro určení má nemoc / nemá nemoc a na testovacích datech spočtěte Accuracy a vykreslete ROC křivku.\n",
        "\n",
        "\n",
        "\n"
      ]
    },
    {
      "cell_type": "markdown",
      "source": [
        "**04-1** Vypište kontingenční tabulku pro proměnné pohlaví (`sex`)\n",
        "a onemocnění (`disease`). Ručně z tabulky spočtěte empirický \n",
        "poměr šancí na onemocnění srdce (muž vs. žena) a pravděpodobnost \n",
        "onemocnění pro ženu a muže. Výsledek porovnejte s výsledky z \n",
        "logistické regrese, kde jediným prediktorem bude právě proměnná \n",
        "`sex` a odezvou proměnná `disease`. Pro poměr šancí uveďte \n",
        "i 95% konfidenční interval a okometujte, zdali mají ženy \n",
        "signifikantně menší šanci na onemocnění srdce."
      ],
      "metadata": {
        "id": "6iLujn762v5C"
      }
    },
    {
      "cell_type": "code",
      "source": [
        "sex_disease <-table(data_train$sex, data_train$disease)\n",
        "sex_disease"
      ],
      "metadata": {
        "id": "k8DgvecChxoQ"
      },
      "execution_count": null,
      "outputs": []
    },
    {
      "cell_type": "markdown",
      "source": [
        "*Empirický pomer šancí na ochorenie muz vs zena:*\n"
      ],
      "metadata": {
        "id": "JOgil7Ks5MC0"
      }
    },
    {
      "cell_type": "code",
      "source": [
        "sex_disease[1]*sex_disease[4]/(sex_disease[2]*sex_disease[3])"
      ],
      "metadata": {
        "id": "T59-DT1r45u6"
      },
      "execution_count": null,
      "outputs": []
    },
    {
      "cell_type": "markdown",
      "source": [
        "*Muži majú 3.5-krát väčšiu šancu na heart disease.*"
      ],
      "metadata": {
        "id": "jIBfqw0Y5XTz"
      }
    },
    {
      "cell_type": "code",
      "source": [
        "#pravdepod onemoc muz,zena\n",
        "\n",
        "zena<-sex_disease[3]/(sex_disease[1,1]+sex_disease[1,2])\n",
        "muz<-sex_disease[4]/(sex_disease[2,1]+sex_disease[2,2])\n",
        "c('pravdepodobnost ze ma zena srdcovu chorobu:',zena)\n",
        "c('pravdepodobnost ze ma muz srdcovu chorobu:',muz)\n"
      ],
      "metadata": {
        "id": "auIxfFQJ49XQ"
      },
      "execution_count": null,
      "outputs": []
    },
    {
      "cell_type": "code",
      "source": [
        "#model\n",
        "c('pravdepodobnosti z modelu:')\n",
        "model_sex_disease<-glm(disease~sex,data=data_train,family = binomial(link = \"logit\"))\n",
        "glm_probs = data.frame(probs = predict(model_sex_disease, type=\"response\"))\n",
        "head(unique(glm_probs))\n",
        "c('pomer sanci z modelu:')\n",
        "exp(cbind(coef(model_sex_disease), confint(model_sex_disease)))"
      ],
      "metadata": {
        "id": "eP3rPtSi4_UG"
      },
      "execution_count": null,
      "outputs": []
    },
    {
      "cell_type": "markdown",
      "source": [
        "*Pomer šancí vypočítaný z modelu je približne rovnaký ako empirický pomer šancí. Rovnako pre pravdepodobnosti. Z 95% konfidenčného intervalu vidíme (neobsahuje 1), že šanca na ochorenie pre ženy je signifikantne menšia ako pre mužov.*"
      ],
      "metadata": {
        "id": "KC1dPUVj7YLL"
      }
    },
    {
      "cell_type": "markdown",
      "source": [
        "**04-2** Vypište kontingenční tabulku pro proměnné typ bolesti \n",
        "(`chest_pain_type`) a onemocnění (`disease`). Ručně z \n",
        "tabulky spočtěte empirický poměr šancí na onemocnění \n",
        "srdce (type 0: asymptomatic, proti ostatním) a \n",
        "pravděpodobnosti onemocnění pro jednotlivé typy.\n",
        "Výsledek porovnejte s výsledky z logistické regrese, \n",
        "kde jediným prediktorem bude právě proměnná `chest_pain_type`\n",
        "a odezvou proměnná `disease`. Pro poměr šancí uveďte i 95% \n",
        "konfidenční interval a okometujte, zdali mají pacienti s \n",
        "asymptomatickou bolestí signifikantně menší šanci na \n",
        "onemocnění srdce oproti ostatním typům bolestí."
      ],
      "metadata": {
        "id": "_EG1D79W29Tl"
      }
    },
    {
      "cell_type": "code",
      "source": [
        "chest_disease <-table(data_train$chest_pain_type, data_train$disease)\n",
        "chest_disease"
      ],
      "metadata": {
        "id": "MpRPvfVTu8CJ"
      },
      "execution_count": null,
      "outputs": []
    },
    {
      "cell_type": "code",
      "source": [
        "#pravdepod onemoc \n",
        "\n",
        "asympt<-chest_disease[5]/sum(chest_disease[1,])\n",
        "atyp<-chest_disease[6]/sum(chest_disease[2,])\n",
        "pain<-chest_disease[7]/sum(chest_disease[3,])\n",
        "typ<-chest_disease[8]/sum(chest_disease[4,])\n",
        "c('pravdepodobnosht ochorenia pri type asymptomatic',asympt)\n",
        "c('pravdepodobnosht ochorenia pri type atupical',atyp)\n",
        "c('pravdepodobnosht ochorenia pri type pain',pain)\n",
        "c('pravdepodobnosht ochorenia pri type typical',typ)"
      ],
      "metadata": {
        "id": "IEQHzB4m8jW3"
      },
      "execution_count": null,
      "outputs": []
    },
    {
      "cell_type": "code",
      "source": [
        "#empiricky pomer sanci na onemoc pri chest pain 0\n",
        "odds_asympt<-asympt/(1-asympt)\n",
        "odds_atyp<-atyp/(1-atyp)\n",
        "odds_pain<-pain/(1-pain)\n",
        "odds_typ<-typ/(1-typ)\n",
        "chest_pain_atypical<-odds_atyp/odds_asympt\n",
        "chest_pain<-odds_pain/odds_asympt\n",
        "chest_pain_typical<-odds_typ/odds_asympt\n",
        "c('pomer sanci pre typ asymptomatic proti ostatnym typom bolesti:')\n",
        "tibble(chest_pain_atypical,chest_pain,chest_pain_typical)"
      ],
      "metadata": {
        "id": "DXkQaBR78mo-"
      },
      "execution_count": null,
      "outputs": []
    },
    {
      "cell_type": "code",
      "source": [
        "#model\n",
        "model_chest_pain<-glm(disease~chest_pain_type,data=data_train,family = binomial(link = \"logit\"))\n",
        "c('pomer sanci z modelu:')\n",
        "exp(cbind(coef(model_chest_pain), confint(model_chest_pain)))\n",
        "#exp(sum(coef(model_chest_pain)[2:3]))"
      ],
      "metadata": {
        "id": "RBc-pPEu8oOT"
      },
      "execution_count": null,
      "outputs": []
    },
    {
      "cell_type": "markdown",
      "source": [
        "*Pacienti s typom bolesti asymptomatic majú signifikantne vyššiu šancu na ochorenie srdca ako pacienti s ostatnými typmi bolesti. Pomery šancí z modelu vychádzajú rovnaké ako z výpočtu pomocou empirických dát.*"
      ],
      "metadata": {
        "id": "v82xO5aH-yqK"
      }
    },
    {
      "cell_type": "code",
      "source": [
        "glm_probs = data.frame(probs = predict(model_chest_pain, type=\"response\"))\n",
        "head(unique(glm_probs))"
      ],
      "metadata": {
        "id": "dcaSb2NC_eji"
      },
      "execution_count": null,
      "outputs": []
    },
    {
      "cell_type": "markdown",
      "source": [
        "*Pravdepodobnosti z modelu majú rovnakú hodnotu ako pravdepodobnosti pomocou tabuľky.*"
      ],
      "metadata": {
        "id": "UtXWN0KVBD4E"
      }
    },
    {
      "cell_type": "markdown",
      "source": [
        "**04-3** Sestavte model, kde použijete všechny dostupné proměnné\n",
        "(jak faktorové tak numerické). Pomocí deviančních testů \n",
        "model postupně redukujte. Výsledný model porovnejte s modelem, \n",
        "který byste obdrželi při použití automatického výběru s funkcí \n",
        "`step()`."
      ],
      "metadata": {
        "id": "NfmlHRho3FQz"
      }
    },
    {
      "cell_type": "code",
      "source": [
        "mdl_1 <- glm(disease~.-disease,family = binomial('logit'),data=data_train)\n",
        "summary(mdl_1)\n",
        "drop1(mdl_1, test=\"Chisq\")\n",
        "mdl_2 <- update(mdl_1, ~. - age - blood_sugar- cholesterol- rest_ecg- ex_angina)  \n",
        "summary(mdl_2)\n",
        "drop1(mdl_2, test=\"Chisq\")\n",
        "c(mdl_1$aic,mdl_2$aic)\n",
        "anova(mdl_2,mdl_1, test=\"Chisq\")#uplny nie je vyzn. lepsi tento \n",
        "#model by som teda zobrala"
      ],
      "metadata": {
        "id": "Ob1bvNqIu82v"
      },
      "execution_count": null,
      "outputs": []
    },
    {
      "cell_type": "markdown",
      "source": [
        "*Model pomocou step.*"
      ],
      "metadata": {
        "id": "AC9TzzrfDFSX"
      }
    },
    {
      "cell_type": "code",
      "source": [
        "mdl_step <- step(mdl_1,direction=\"backward\")\n",
        "summary(mdl_step)"
      ],
      "metadata": {
        "id": "J2uwas1tDEt2"
      },
      "execution_count": null,
      "outputs": []
    },
    {
      "cell_type": "markdown",
      "source": [
        "*Model, ktorý som dostal vypúšťaním premenných pomocou deviačných testov je rovnaký ako model funkciou step. Ďalej používam model step.*"
      ],
      "metadata": {
        "id": "zt-GfzlKEG_b"
      }
    },
    {
      "cell_type": "markdown",
      "source": [
        "**04-4** Pro vybraný model spočtěte šanci na srdeční onemocnění\n",
        "pro muže oproti ženám, včetně 95% konfidenčních intervalů. \n",
        "Stejně tak pro asymptomaticky typ bolesti na hrudi proti\n",
        "ostatním. Jak se výsledek změnil oproti jednoduchým modelům \n",
        "a jak byste tuto změnu vysvětlili?"
      ],
      "metadata": {
        "id": "ewjZO9Nj3M9q"
      }
    },
    {
      "cell_type": "code",
      "source": [
        "c('pomocou vybraneho modelu:')\n",
        "exp(cbind(coef(mdl_step), confint(mdl_step)))[(2:5),]\n",
        "c('pomocou jednoducheho modelu')\n",
        "exp(cbind(coef(model_sex_disease), confint(model_sex_disease)))\n",
        "exp(cbind(coef(model_chest_pain), confint(model_chest_pain)))[(2:4),]"
      ],
      "metadata": {
        "id": "z74l9w-ovTN_"
      },
      "execution_count": null,
      "outputs": []
    },
    {
      "cell_type": "markdown",
      "source": [
        "*Šanca na chorobu u mužov je v modeli z predchádzajúcej úlohy ešte vyššia. Muži majú v oboch modeloch signifikantne väčšiu šancu na ochorenie srdca ako ženy. Šanca na srdečnú chorobu pri asymptomatickej bolesti je v novom modely približne 3.3-krát väčšia kdežto v jednoduchom modely bola až 13.05-krát väčšia než pri atypickej bolesti. Ostatné Pomery šancí sa menili menej výrazne. Stále sú však vo všetkých prípadoch šance na ochorenie signifikantne väčšie pri asymptomatickej bolesti. Hodnoty sa zmnenili z toho dôvodu, že sa zmenili parametre modelu, z ktorých je dalej počítaný pomer šancí.*"
      ],
      "metadata": {
        "id": "znGV5FiCTPmi"
      }
    },
    {
      "cell_type": "markdown",
      "source": [
        "**04-5** (2b) Použijte váš model a spočtěte odhad pravděpodobnosti \n",
        "srdeční choroby pro testovací data vykreslete pro proměnou \n",
        "blood_pressure predikční konfidenční intervaly. "
      ],
      "metadata": {
        "id": "ITCuF-js3Wyf"
      }
    },
    {
      "cell_type": "code",
      "source": [
        "\n",
        "data_test$sex <- factor(data_test$sex,labels=c(\"female\",\"male\"))\n",
        "data_test$chest_pain_type<-factor(data_test$chest_pain_type,labels=c(\"asymptomatic\",\"atypical\",\"pain\",\"typical\"))\n",
        "data_test$blood_sugar<-factor(data_test$blood_sugar,labels=c(\"less\",\"more\"))\n",
        "data_test$rest_ecg<-factor(data_test$rest_ecg,labels=c(\"hypertrophy\",\"normal\"))\n",
        "data_test$ex_angina<-factor(data_test$ex_angina,labels=c(\"no\",\"yes\"))\n",
        "data_test$st_slope<-factor(data_test$st_slope,labels=c(\"downsloping\",\"flat\",\"upsloping\"))\n",
        "data_test$thal<-factor(data_test$thal,labels=c('no',\"fixed\",\"normal\"))\n",
        "data_test$disease<-factor(data_test$disease,labels=c('no','yes'))\n",
        "\n",
        "data_test_pred<-data_test%>%\n",
        "  mutate(fitted = predict(mdl_step, newdata = data_test, type = \"response\"),\n",
        "         predict = as.factor(ifelse(fitted > 0.5, \"yes\", \"no\")))\n",
        "head(data_test_pred)\n",
        "\n",
        "ilink <- family(mdl_step)$linkinv\n",
        "quant_t <- qt(0.025, df = df.residual(mdl_step), lower.tail = FALSE)\n",
        "quant_n <- qnorm(0.005, lower.tail = FALSE)\n",
        "\n",
        "pd<-with(data_test,data.frame(blood_pressure = seq(min(blood_pressure), max(blood_pressure),\n",
        "                                               length = 100)))\n",
        "#ostane premenne nasatvime ako konstantne\n",
        "pd$sex<-rep('male',100)\n",
        "pd$chest_pain_type<-rep('asymptomatic',100)\n",
        "pd$heart_rate<-rep(140,100)\n",
        "pd$st_depression<-rep(0,100)\n",
        "pd$st_slope<-rep('flat',100)\n",
        "pd$num_vessels<-rep(0,100)\n",
        "pd$thal<-rep('normal',100)\n",
        "\n",
        "\n",
        "pd<-cbind(pd, predict(mdl_step, pd, type = \"link\", se.fit = TRUE))\n",
        "\n",
        "plt <- ggplot(pd, aes(x = blood_pressure, y = ilink(fit))) +\n",
        "  geom_point() \n",
        "pd <- pd %>%\n",
        "  mutate(fit_link = predict(mdl_step, pd, se.fit = TRUE)$fit,\n",
        "         se_link  = predict(mdl_step, pd, se.fit = TRUE)$se.fit,\n",
        "         fit  = ilink(fit_link),\n",
        "         fit_ul = ilink(fit_link + (quant_n * se_link)),\n",
        "         fit_ll = ilink(fit_link - (quant_n * se_link)))\n",
        "## show\n",
        "\n",
        "plt + geom_ribbon(data = pd,\n",
        "                  aes(ymin = fit_ll, ymax = fit_ul),fill = \"steelblue2\",\n",
        "                  alpha = 0.1)"
      ],
      "metadata": {
        "id": "0FdgDvalvbhk"
      },
      "execution_count": null,
      "outputs": []
    },
    {
      "cell_type": "markdown",
      "source": [
        "**04-6** (2b) Na základě trénovacích dat zvolte vhodný treshold \n",
        "pro určení má nemoc / nemá nemoc a na testovacích datech \n",
        "spočtěte Accuracy a vykreslete ROC křivku."
      ],
      "metadata": {
        "id": "F8eQCcCW3lkU"
      }
    },
    {
      "cell_type": "code",
      "source": [
        "install.packages(\"pROC\")\n",
        "library(pROC)       "
      ],
      "metadata": {
        "id": "exWf78-2viOy"
      },
      "execution_count": null,
      "outputs": []
    },
    {
      "cell_type": "code",
      "source": [
        "#do datasetu pridame fitted a prehodime hodnoty disease naspat do tvaru 0,1\n",
        "data_train_pred1<-data_train%>%\n",
        "  mutate(fitted = predict(mdl_step, newdata = data_train, type = \"response\"),\n",
        "        disease = as.numeric(ifelse(disease==\"yes\", 1, 0)))\n",
        "head(data_train_pred1)"
      ],
      "metadata": {
        "id": "YonBLwsgSJPz"
      },
      "execution_count": null,
      "outputs": []
    },
    {
      "cell_type": "code",
      "source": [
        "install.packages('rfUtilities')\n",
        "library('rfUtilities')\n",
        "install.packages(\"caret\")\n",
        "library(caret)\n",
        "install.packages(\"InformationValue\")\n",
        "library(InformationValue)\n",
        "install.packages(\"ISLR\")\n",
        "library(ISLR)"
      ],
      "metadata": {
        "id": "YMF4xFd1Ss3T"
      },
      "execution_count": null,
      "outputs": []
    },
    {
      "cell_type": "code",
      "source": [
        "cutoff<-optimalCutoff(data_train_pred1$disease, data_train_pred1$fitted)\n",
        "c('threshold:',cutoff)\n",
        "data_test_pred<-data_test%>%\n",
        "  mutate(fitted = predict(mdl_step, newdata = data_test, type = \"response\"),\n",
        "          predict = as.factor(ifelse(fitted > cutoff, \"yes\", \"no\")))\n",
        "head(data_test_pred)\n"
      ],
      "metadata": {
        "id": "RbvJH2Kb0sj2"
      },
      "execution_count": null,
      "outputs": []
    },
    {
      "cell_type": "code",
      "source": [
        "plot.roc(data_test_pred$disease, data_test_pred$fitted,     \n",
        "         percent = TRUE,\n",
        "         print.auc=TRUE,                    \n",
        "         main = \"Partial AUC\")"
      ],
      "metadata": {
        "id": "8Zb_XNj_SMV8"
      },
      "execution_count": null,
      "outputs": []
    },
    {
      "cell_type": "code",
      "source": [
        "#accuracy(data_train_pred$predict, data_train_pred$disease)\n",
        "accuracy(data_test_pred$predict, data_test_pred$disease)$confusion\n",
        "c('Accuracy:',accuracy(data_test_pred$predict, data_test_pred$disease)$PCC)\n"
      ],
      "metadata": {
        "id": "vowXf0I0SWoh"
      },
      "execution_count": null,
      "outputs": []
    },
    {
      "cell_type": "markdown",
      "metadata": {
        "id": "36nAaDOb7lkB"
      },
      "source": [
        "## 05 - Logistická regrese -  strojové učení (1/3)"
      ]
    },
    {
      "cell_type": "markdown",
      "metadata": {
        "id": "EkAcASto71Wb"
      },
      "source": [
        "* Sestavte workflow (pipeline) na trenovacích datech pro logistickou regresi s použitím regularizace (elestic-net), která bude obsahovat \n",
        " *   Přípravu proměnných, transformaci, one-hot encoding, normalizaci, ... (Možno použít recipe z tidy models)\n",
        " *   Hledání \"optimálního\" nastavení hyperparametru v regularizaci. \n",
        " *   k-fold cross validaci\n",
        "\n",
        "* Pomocí předchozí pipline/workflow vyberte hodnotu hyperparametru. Pokud chceme uvedený algoritmus použít k detekci pacientů s nemocí srdce, jakou statistiku bychom měli sledovat abychom omylem nepropustili nemocného domů jako zdravého? \n",
        "\n",
        "* Spočtěte a porovnejte statistiky používané při binární klasifikaci na trénovacích a testovacích datech. Vykreslete ROC křivku a spočtěte plochu pod ní jak pro testovací tak trénovací data. Co můžeme říci o kvalitě modelu z této sekce 05 a modelu z předchozí 04?\n",
        "\n",
        "\n"
      ]
    },
    {
      "cell_type": "markdown",
      "source": [
        "**05-1** Sestavte workflow (pipeline) na trenovacích datech pro logistickou regresi s použitím regularizace (elestic-net), která bude obsahovat \n",
        " *   Přípravu proměnných, transformaci, one-hot encoding, normalizaci, ... (Možno použít recipe z tidy models)\n",
        " *   Hledání \"optimálního\" nastavení hyperparametru v regularizaci. \n",
        " *   k-fold cross validaci"
      ],
      "metadata": {
        "id": "EvKDni5D9_KC"
      }
    },
    {
      "cell_type": "code",
      "source": [
        "install.packages(\"tidymodels\")\n",
        "library(tidymodels)  \n"
      ],
      "metadata": {
        "id": "AuZuTBjS-Dql"
      },
      "execution_count": null,
      "outputs": []
    },
    {
      "cell_type": "markdown",
      "source": [
        "*Priprava premennych:*"
      ],
      "metadata": {
        "id": "eTM_U_bmZ-o7"
      }
    },
    {
      "cell_type": "code",
      "source": [
        "split <- initial_split(data_train, strata = disease, prop = 0.8)\n",
        "train_d <- training(split)\n",
        "val_d <- validation_split(data_train, \n",
        "                            strata = disease, \n",
        "                            prop = 0.80)\n",
        "mod_lr <- \n",
        "  logistic_reg(penalty = tune(), mixture = 1) %>% \n",
        "  set_engine(\"glmnet\")\n",
        "recipe0 <- recipe(disease ~ ., data = train_d) %>%\n",
        "    step_normalize(all_numeric(), -all_outcomes()) %>% \n",
        "    step_dummy(all_nominal(), -all_outcomes())\n",
        "train <- recipe0 %>%\n",
        "            prep() %>%\n",
        "            juice()\n"
      ],
      "metadata": {
        "id": "8qKdgp1K9-mi"
      },
      "execution_count": null,
      "outputs": []
    },
    {
      "cell_type": "code",
      "source": [
        "recipe1 <- recipe0 %>%\n",
        "    update_role(age, sex, chest_pain_type,cholesterol, blood_sugar, rest_ecg,\n",
        "                blood_pressure, heart_rate, ex_angina, st_depression, num_vessels, st_slope,thal,\n",
        "                new_role = \"predictor\") %>%\n",
        "    update_role(disease, new_role = \"outcome\")\n",
        "workflow_lr <- \n",
        "  workflow() %>% \n",
        "  add_recipe(recipe1) %>% \n",
        "  add_model(mod_lr) "
      ],
      "metadata": {
        "id": "rgsFp1qlI8sS"
      },
      "execution_count": null,
      "outputs": []
    },
    {
      "cell_type": "code",
      "source": [
        "tune_grid<-tibble(penalty = 10^seq(-4, -1, length.out = 50))\n",
        "results <- \n",
        "  workflow_lr %>% \n",
        "  tune_grid(val_d,\n",
        "            grid = tune_grid,\n",
        "            control = control_grid(save_pred = TRUE, verbose = TRUE),\n",
        "            metrics = metric_set(roc_auc, accuracy,specificity,sensitivity))\n"
      ],
      "metadata": {
        "id": "Ae8uEYUe4ry9"
      },
      "execution_count": null,
      "outputs": []
    },
    {
      "cell_type": "code",
      "source": [
        "collect_metrics(results) %>%\n",
        "  pivot_wider(names_from = .metric, values_from = mean ) %>%\n",
        "  arrange(desc(roc_auc))\n",
        "lr_best <-\n",
        "  results %>% \n",
        "  collect_metrics() %>% \n",
        "  filter(.metric == \"accuracy\") %>% \n",
        "  filter(mean == max(mean)) %>% \n",
        "  slice(1)\n",
        "c('optimalny hyperparameter:')\n",
        "lr_best"
      ],
      "metadata": {
        "id": "zj_-HM5rGaZX"
      },
      "execution_count": null,
      "outputs": []
    },
    {
      "cell_type": "markdown",
      "source": [
        "*k-fold cross validace:*"
      ],
      "metadata": {
        "id": "2kP7eOP9lRv8"
      }
    },
    {
      "cell_type": "code",
      "source": [
        "train_fold <- vfold_cv(train_d,strata = \"disease\", v = 5)\n",
        "summary(train_fold)\n",
        "\n",
        "lr_fold <- workflow_lr %>%\n",
        "  tune_grid(\n",
        "    resamples = train_fold,\n",
        "    grid = tune_grid,\n",
        "    metrics = metric_set(roc_auc)\n",
        "  )"
      ],
      "metadata": {
        "id": "lTMyvzmxlR5l"
      },
      "execution_count": null,
      "outputs": []
    },
    {
      "cell_type": "code",
      "source": [
        "collect_metrics(lr_fold) %>%\n",
        " pivot_wider(names_from = .metric, values_from = mean ) %>%\n",
        " arrange(desc(roc_auc))"
      ],
      "metadata": {
        "id": "38PW_Ln0JKR_"
      },
      "execution_count": null,
      "outputs": []
    },
    {
      "cell_type": "markdown",
      "source": [
        "**05-2** Pomocí předchozí pipline/workflow vyberte hodnotu hyperparametru. Pokud chceme uvedený algoritmus použít k detekci pacientů s nemocí srdce, jakou statistiku bychom měli sledovat abychom omylem nepropustili nemocného domů jako zdravého?"
      ],
      "metadata": {
        "id": "LsDkV_YjJw1v"
      }
    },
    {
      "cell_type": "code",
      "source": [
        "best <- \n",
        "  lr_fold %>% \n",
        "  collect_metrics() %>% \n",
        "  arrange(desc(mean)) %>% \n",
        "  slice(1)\n",
        "c('vybrana hodnota hyperparametru podla predchadzajucej ulohy:')\n",
        "best$penalty"
      ],
      "metadata": {
        "id": "4T3CMYCLJh7M"
      },
      "execution_count": null,
      "outputs": []
    },
    {
      "cell_type": "markdown",
      "source": [
        "*Aby sme omylom neprepustili nemocného človeka, budeme sledovať špecificitu.*"
      ],
      "metadata": {
        "id": "4ortKokGKxKF"
      }
    },
    {
      "cell_type": "markdown",
      "source": [
        "**05-3** Spočtěte a porovnejte statistiky používané při binární klasifikaci na trénovacích a testovacích datech. Vykreslete ROC křivku a spočtěte plochu pod ní jak pro testovací tak trénovací data. Co můžeme říci o kvalitě modelu z této sekce 05 a modelu z předchozí 04?"
      ],
      "metadata": {
        "id": "ujL1-I44OOX-"
      }
    },
    {
      "cell_type": "code",
      "source": [
        "mdl_final <- \n",
        "  logistic_reg(penalty = best$penalty, mixture = 1) %>% \n",
        "  set_engine(\"glmnet\")\n",
        "\n",
        "workflow_final <- \n",
        "  workflow() %>% \n",
        "  add_recipe(recipe1) %>% \n",
        "  add_model(mdl_final) \n",
        "\n",
        "results_final<-last_fit(workflow_final,split,metrics=metric_set(roc_auc, accuracy,specificity,sensitivity))\n",
        "results_final$.metrics\n"
      ],
      "metadata": {
        "id": "sfy0GhB_OdgK"
      },
      "execution_count": null,
      "outputs": []
    },
    {
      "cell_type": "code",
      "source": [
        "lr_auc <- \n",
        "  results %>% \n",
        "  collect_predictions(parameters = best) %>% \n",
        "  roc_curve(disease, .pred_no) %>% \n",
        "  mutate(model = \"Logistic Regression - glmnet\")\n",
        "\n",
        "autoplot(lr_auc)"
      ],
      "metadata": {
        "id": "VZYsmQh5spoN"
      },
      "execution_count": null,
      "outputs": []
    },
    {
      "cell_type": "markdown",
      "source": [
        "*Z výsledkov vidíme, že dostávame pre model pomerne vysoké hodnoty pre testovacie metriky. Model z predošlej úlohy má podstatne nižšiu prestnosť.*"
      ],
      "metadata": {
        "id": "u7sZGc_TuqmI"
      }
    },
    {
      "cell_type": "markdown",
      "metadata": {
        "id": "XyiDAcOU92jA"
      },
      "source": [
        "## Poznámky k odevzdání a vypracování\n",
        "\n",
        "* Úkol vypracujte samostatně. Pokud se budete s někým radit, nezapomeňte u dané odpovědi uvést zdroj vašich informací. \n",
        "\n",
        "* Úkol můžete odevzdávat jako spustitelný jupyter notebook na google colab (stačí odevzdat link na github). Před odevzdáním ZKONTROLUJTE, že buňky na sebe navazují a že lze NB postupně projít a jednotlivé buňky nezahlásí chybu.\n",
        "\n",
        "* Deadline pro odevzdání je stanoven na sředu 22.6.2022.\n",
        "\n",
        "* Není možno odevzdání opakovat. Odevzdaný úkol zkontroluji a buď zápočet získáte, nebo ne.\n",
        "\n",
        "* Pokud se rozhodnete na někkteré otázky neodpovídat, uveďte to a počítejte s tím, že v dané sekci ztrácíte body a odpovědi z dalších otázek nemusí stačit na minimum za danou sekci.\n",
        "\n",
        "* V případě otázek se ptejte veřejně v general kanále v MS Teams. Ostatní mohou mít podobné problémy a tudíž pokud je někde například nejasné zadání, tak ať mají všichni stejnou příležitost.\n",
        "\n",
        "* Možno psát a odevzdat v Pythonu.\n"
      ]
    },
    {
      "cell_type": "code",
      "metadata": {
        "id": "tLdxTPNZXEOF"
      },
      "source": [
        ""
      ],
      "execution_count": null,
      "outputs": []
    }
  ]
}